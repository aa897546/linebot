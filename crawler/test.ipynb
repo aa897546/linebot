{
 "cells": [
  {
   "cell_type": "code",
   "execution_count": 1,
   "metadata": {},
   "outputs": [],
   "source": [
    "import requests\n",
    "import numpy as np\n",
    "import matplotlib.pyplot as plt\n",
    "import pandas as pd"
   ]
  },
  {
   "cell_type": "code",
   "execution_count": 2,
   "metadata": {},
   "outputs": [
    {
     "data": {
      "text/plain": [
       "'https://www.taiwanlottery.com.tw/lotto/Lotto649/history.aspx'"
      ]
     },
     "execution_count": 2,
     "metadata": {},
     "output_type": "execute_result"
    }
   ],
   "source": [
    "url='https://www.taiwanlottery.com.tw/lotto/Lotto649/history.aspx'\n",
    "url"
   ]
  },
  {
   "cell_type": "code",
   "execution_count": 3,
   "metadata": {},
   "outputs": [],
   "source": [
    "from bs4 import BeautifulSoup"
   ]
  },
  {
   "cell_type": "code",
   "execution_count": null,
   "metadata": {},
   "outputs": [],
   "source": [
    "resp=requests     "
   ]
  },
  {
   "cell_type": "code",
   "execution_count": 4,
   "metadata": {},
   "outputs": [
    {
     "ename": "NameError",
     "evalue": "name 'resp' is not defined",
     "output_type": "error",
     "traceback": [
      "\u001b[1;31m---------------------------------------------------------------------------\u001b[0m",
      "\u001b[1;31mNameError\u001b[0m                                 Traceback (most recent call last)",
      "Cell \u001b[1;32mIn[4], line 1\u001b[0m\n\u001b[1;32m----> 1\u001b[0m soup\u001b[39m=\u001b[39mBeautifulSoup(resp\u001b[39m.\u001b[39mtext,\u001b[39m'\u001b[39m\u001b[39mlxml\u001b[39m\u001b[39m'\u001b[39m)\n\u001b[0;32m      2\u001b[0m soup\n",
      "\u001b[1;31mNameError\u001b[0m: name 'resp' is not defined"
     ]
    }
   ],
   "source": [
    "soup=BeautifulSoup(resp.text,'lxml')\n",
    "soup"
   ]
  },
  {
   "cell_type": "code",
   "execution_count": null,
   "metadata": {},
   "outputs": [
    {
     "data": {
      "text/plain": [
       "[<tr>\n",
       " <td class=\"td_org1\" width=\"105\"> 期別 </td>\n",
       " <td class=\"td_org1\" colspan=\"2\"> 開獎日 </td>\n",
       " <td class=\"td_org1\" colspan=\"2\">兌獎截止(註6)<br/></td>\n",
       " <td class=\"td_org1\" colspan=\"2\"> 銷售金額 </td>\n",
       " <td class=\"td_org1\" colspan=\"3\"> 獎金總額</td>\n",
       " </tr>,\n",
       " <tr>\n",
       " <td class=\"td_w\" height=\"27\"><span id=\"Lotto649Control_history_dlQuery_L649_DrawTerm_0\">112000082</span></td>\n",
       " <td class=\"td_w\" colspan=\"2\"><span id=\"Lotto649Control_history1_dlQuery_ctl00_L649_DDate\">\n",
       " <span id=\"Lotto649Control_history_dlQuery_L649_DDate_0\">112/09/01</span>\n",
       " </span></td>\n",
       " <td class=\"td_w\" colspan=\"2\"><span id=\"Lotto649Control_history_dlQuery_L649_EDate_0\">112/12/04</span></td>\n",
       " <td class=\"td_w\" colspan=\"2\"><span id=\"Lotto649Control_history_dlQuery_L649_SellAmount_0\">90,911,150</span></td>\n",
       " <td class=\"td_w\" colspan=\"3\"><span id=\"Lotto649Control_history_dlQuery_Total_0\">120,637,672</span></td>\n",
       " </tr>,\n",
       " <tr>\n",
       " <td class=\"td_org1\" colspan=\"8\"> 獎號 </td>\n",
       " <td class=\"td_org1\" colspan=\"2\">特別號</td>\n",
       " </tr>,\n",
       " <tr>\n",
       " <td class=\"td_org2\" colspan=\"2\"> 開出順序 </td>\n",
       " <td class=\"td_w font_black14b_center\" width=\"80\"><span id=\"Lotto649Control_history_dlQuery_SNo1_0\">49</span></td>\n",
       " <td class=\"td_w font_black14b_center\"><span id=\"Lotto649Control_history_dlQuery_SNo2_0\">26</span></td>\n",
       " <td class=\"td_w font_black14b_center\" width=\"71\"><span id=\"Lotto649Control_history_dlQuery_SNo3_0\">34</span></td>\n",
       " <td class=\"td_w font_black14b_center\" width=\"69\"><span id=\"Lotto649Control_history_dlQuery_SNo4_0\">45</span></td>\n",
       " <td class=\"td_w font_black14b_center\" width=\"74\"><span id=\"Lotto649Control_history_dlQuery_SNo5_0\">01</span></td>\n",
       " <td class=\"td_w font_black14b_center\" width=\"72\"><span id=\"Lotto649Control_history_dlQuery_SNo6_0\">19</span></td>\n",
       " <td class=\"td_w font_red14b_center\" colspan=\"2\"><span id=\"SuperLotto638Control_history1_dlQuery_SNo7_0\"><span id=\"Lotto649Control_history_dlQuery_No7_0\">37</span></span> </td>\n",
       " </tr>,\n",
       " <tr>\n",
       " <td class=\"td_org2\" colspan=\"2\"> 大小順序 </td>\n",
       " <td class=\"td_w font_black14b_center\"><span id=\"Lotto649Control_history_dlQuery_No1_0\">01</span></td>\n",
       " <td class=\"td_w font_black14b_center\"><span id=\"Lotto649Control_history_dlQuery_No2_0\">19</span></td>\n",
       " <td class=\"td_w font_black14b_center\"><span id=\"Lotto649Control_history_dlQuery_No3_0\">26</span></td>\n",
       " <td class=\"td_w font_black14b_center\"><span id=\"Lotto649Control_history_dlQuery_No4_0\">34</span></td>\n",
       " <td class=\"td_w font_black14b_center\"><span id=\"Lotto649Control_history_dlQuery_No5_0\">45</span></td>\n",
       " <td class=\"td_w font_black14b_center\"><span id=\"Lotto649Control_history_dlQuery_No6_0\">49</span></td>\n",
       " <td class=\"td_w font_red14b_center\" colspan=\"2\"><span id=\"SuperLotto638Control_history1_dlQuery_No7_0\"><span id=\"Lotto649Control_history_dlQuery_SNo_0\">37</span></span> </td>\n",
       " </tr>,\n",
       " <tr>\n",
       " <td class=\"td_org1\" colspan=\"10\"> 獎金分配 </td>\n",
       " </tr>,\n",
       " <tr>\n",
       " <td class=\"td_org1\"> 項目 </td>\n",
       " <td class=\"td_org1\" colspan=\"2\">頭獎</td>\n",
       " <td class=\"td_org1\">貳獎 </td>\n",
       " <td class=\"td_org1\">參獎 </td>\n",
       " <td class=\"td_org1\">肆獎 </td>\n",
       " <td class=\"td_org1\">伍獎 </td>\n",
       " <td class=\"td_org1\">陸獎 </td>\n",
       " <td class=\"td_org1\" width=\"68\">柒獎</td>\n",
       " <td class=\"td_org1\" width=\"68\"> 普獎 </td>\n",
       " </tr>,\n",
       " <tr>\n",
       " <td class=\"td_org2 font_black12 td_hm\"> 對中<br/>\n",
       "                                                       獎號數</td>\n",
       " <td class=\"td_org2 font_black12 td_hm\" colspan=\"2\">6個</td>\n",
       " <td class=\"td_org2 font_black12 td_hm\">任5個<br/>\n",
       "                                                       ＋特別號</td>\n",
       " <td class=\"td_org2 font_black12 td_hm\">任5個</td>\n",
       " <td class=\"td_org2 font_black12 td_hm\">任4個<br/>\n",
       "                                                       ＋特別號</td>\n",
       " <td class=\"td_org2 font_black12 td_hm\">任4個</td>\n",
       " <td class=\"td_org2 font_black12 td_hm\">任3個<br/>\n",
       "                                                       ＋特別號</td>\n",
       " <td class=\"td_org2 font_black12 td_hm\">任2個<br/>\n",
       "                                                       ＋特別號</td>\n",
       " <td class=\"td_org2 font_black12 td_hm\">任3個</td>\n",
       " </tr>,\n",
       " <tr>\n",
       " <td class=\"td_org2 font_black12\"> 中獎<br/>\n",
       "                                                       注數 </td>\n",
       " <td class=\"td_w font_black14b td_hm\" colspan=\"2\"><span id=\"SuperLotto638Control_history1_dlQuery_SL638_CategC3_0\"><span id=\"Lotto649Control_history_dlQuery_L649_CategA3_0\">0</span></span> </td>\n",
       " <td class=\"td_w font_black14b td_hm\" width=\"72\"><span id=\"Lotto649Control_history_dlQuery_L649_CategB3_0\">0</span></td>\n",
       " <td class=\"td_w font_black14b td_hm\"><span id=\"Lotto649Control_history_dlQuery_L649_CategC3_0\">42</span></td>\n",
       " <td class=\"td_w font_black14b td_hm\"><span id=\"Lotto649Control_history_dlQuery_Label2_0\">76</span></td>\n",
       " <td class=\"td_w font_black14b td_hm\"><span id=\"Lotto649Control_history_dlQuery_Label3_0\">1,874</span></td>\n",
       " <td class=\"td_w font_black14b td_hm\"><span id=\"Lotto649Control_history_dlQuery_Label4_0\">2,055</span></td>\n",
       " <td class=\"td_w font_black14b td_hm\"><span id=\"Lotto649Control_history_dlQuery_Label5_0\">20,320</span></td>\n",
       " <td class=\"td_w font_black14b td_hm\"><span id=\"Lotto649Control_history_dlQuery_Label6_0\">30,069</span></td>\n",
       " </tr>,\n",
       " <tr>\n",
       " <td class=\"td_org2 font_black12\"> 單注<br/>\n",
       "                                                       獎金 </td>\n",
       " <td class=\"td_w font_black14b td_hm\" colspan=\"2\"><span id=\"SuperLotto638Control_history1_dlQuery_SL638_CategC4_0\"><span id=\"Lotto649Control_history_dlQuery_L649_CategA4_0\">0</span></span> </td>\n",
       " <td class=\"td_w font_black14b td_hm\"><span id=\"Lotto649Control_history_dlQuery_Label7_0\">0</span></td>\n",
       " <td class=\"td_w font_black14b td_hm\"><span id=\"Lotto649Control_history_dlQuery_Label8_0\">41,586</span></td>\n",
       " <td class=\"td_w font_black14b td_hm\"><span id=\"Lotto649Control_history_dlQuery_Label9_0\">14,773</span></td>\n",
       " <td class=\"td_w font_black14b td_hm\"><span id=\"Lotto649Control_history_dlQuery_Label10_0\">2,000</span></td>\n",
       " <td class=\"td_w font_black14b td_hm\"><span id=\"Lotto649Control_history_dlQuery_Label11_0\">1,000</span></td>\n",
       " <td class=\"td_w font_black14b td_hm\"><span id=\"Lotto649Control_history_dlQuery_Label12_0\">400</span></td>\n",
       " <td class=\"td_w font_black14b td_hm\"><span id=\"Lotto649Control_history_dlQuery_Label13_0\">400</span></td>\n",
       " </tr>,\n",
       " <tr>\n",
       " <td class=\"td_org2 font_black12\"> 累至次<br/>\n",
       "                                                       期獎金 </td>\n",
       " <td class=\"td_w font_black14b td_hm\" colspan=\"2\"><span id=\"SuperLotto638Control_history1_dlQuery_SL638_CategC5_0\"><span id=\"Lotto649Control_history_dlQuery_L649_CategA5_0\">83,396,282</span></span> </td>\n",
       " <td class=\"td_w font_black14b td_hm\"><span id=\"Lotto649Control_history_dlQuery_Label14_0\">8,413,350</span></td>\n",
       " <td class=\"td_w font_black14b td_hm\"><span id=\"Lotto649Control_history_dlQuery_Label15_0\">0</span></td>\n",
       " <td class=\"td_w font_black14b td_hm\"><span id=\"Lotto649Control_history_dlQuery_Label16_0\">0</span></td>\n",
       " <td class=\"tdA_6\">　</td>\n",
       " <td class=\"tdA_6\">　</td>\n",
       " <td class=\"tdA_6\">　</td>\n",
       " <td class=\"tdA_6\">　</td>\n",
       " </tr>]"
      ]
     },
     "execution_count": 25,
     "metadata": {},
     "output_type": "execute_result"
    }
   ],
   "source": [
    "trs=soup.find('table',class_=\"table_org td_hm\").find_all('tr')\n",
    "trs"
   ]
  },
  {
   "cell_type": "code",
   "execution_count": null,
   "metadata": {},
   "outputs": [
    {
     "data": {
      "text/plain": [
       "['01', '19', '26', '34', '45', '49', '37']"
      ]
     },
     "execution_count": 28,
     "metadata": {},
     "output_type": "execute_result"
    }
   ],
   "source": [
    "numbers=trs[4].text.strip().split()[1:]\n",
    "numbers"
   ]
  },
  {
   "cell_type": "code",
   "execution_count": null,
   "metadata": {},
   "outputs": [
    {
     "data": {
      "text/plain": [
       "'01,19,26,34,45,49特別號37'"
      ]
     },
     "execution_count": 35,
     "metadata": {},
     "output_type": "execute_result"
    }
   ],
   "source": [
    "big_lottory=','.join(numbers[:-1])+f\"特別號{numbers[-1]}\"\n",
    "big_lottory"
   ]
  },
  {
   "cell_type": "markdown",
   "metadata": {},
   "source": [
    "# 取得日期"
   ]
  },
  {
   "cell_type": "code",
   "execution_count": null,
   "metadata": {},
   "outputs": [
    {
     "data": {
      "text/plain": [
       "'112000082，112/09/01'"
      ]
     },
     "execution_count": 41,
     "metadata": {},
     "output_type": "execute_result"
    }
   ],
   "source": [
    "date='，'.join(trs[1].text.strip().split()[:2])\n",
    "date"
   ]
  },
  {
   "cell_type": "code",
   "execution_count": null,
   "metadata": {},
   "outputs": [
    {
     "name": "stdout",
     "output_type": "stream",
     "text": [
      "期數/日期:112000082,112/09/01\n",
      "號碼01,19,26,34,45,49特別號37\n"
     ]
    }
   ],
   "source": [
    "print(f'期數/日期:{date}\\n號碼{big_lottory}')"
   ]
  },
  {
   "cell_type": "markdown",
   "metadata": {},
   "source": []
  }
 ],
 "metadata": {
  "kernelspec": {
   "display_name": "base",
   "language": "python",
   "name": "python3"
  },
  "language_info": {
   "codemirror_mode": {
    "name": "ipython",
    "version": 3
   },
   "file_extension": ".py",
   "mimetype": "text/x-python",
   "name": "python",
   "nbconvert_exporter": "python",
   "pygments_lexer": "ipython3",
   "version": "3.11.3"
  },
  "orig_nbformat": 4
 },
 "nbformat": 4,
 "nbformat_minor": 2
}
